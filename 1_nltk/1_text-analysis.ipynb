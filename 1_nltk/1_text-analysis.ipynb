{
 "cells": [
  {
   "cell_type": "markdown",
   "metadata": {},
   "source": [
    "# Analyse de texte avec NLTK\n",
    "\n",
    "NLTK est la boîte à outil pour le traitement du langage en python. Elle regroupe la plupart des fonctions utiles à la découverte de cette discipline. \n",
    "\n",
    "Ce TP constitue une introduction à NLTK par le biais de fonctions à trou, parfois simples, parfois plus complexes. Il est bon de chercher, mais n'hésitez pas à poser des questions si vous rencontrez des problèmes et que vous restez bloqué trop longtemps !  \n",
    "\n",
    "Les textes présents lors de ce TP sont issus du projet Gutenberg, il s'agit d'ebooks gratuits que vous pouvez télécharger. Nous allons nous concentrer sur quelques exemples en français.\n",
    "\n",
    "https://www.gutenberg.org/ebooks/search/?query=.\n",
    "\n",
    "Dans ce notebook, vous allez trouver du code à trou sous cette forme : \n",
    "```python\n",
    "## ----- TODO : L'objectif est de remplir le code entre les deux lignes de commentaires ----- ##\n",
    "## ------------------------------------------------------------------------------------------ ##\n",
    "```\n",
    "\n",
    "Le code à trou n'est qu'une proposition pour arriver au résultat. Il n'y a pas forcément de \"meilleure\" solution, donc libre à vous de proposer une implémentation différente si vous le souhaitez :).\n",
    "\n",
    "Nous allons explorer un peu plus les fonctions présentes dans NLTK.\n",
    "\n",
    "Commencez dans un premier temps par recharger le texte, uniquement de Alice, de la même manière qu'au TP précedent.\n",
    "\n",
    "## Étape 1 : Récupération du texte\n",
    "\n",
    "Dans le dossier `data` à la racine du projet, vous trouverez quelques textes issus du projet gutenberg avec lesquels nous allons pouvoir travailler.\n",
    "\n",
    "La première étape consiste à lire ces texte et les concatener dans une variable python."
   ]
  },
  {
   "cell_type": "code",
   "execution_count": 39,
   "metadata": {},
   "outputs": [],
   "source": [
    "import glob\n",
    "\n",
    "text = \"\"\n",
    "\n",
    "for filepath in glob.glob(\"../data/fr_alice*.txt\"):\n",
    "    with open(filepath, encoding='utf-8') as file:\n",
    "        text += file.read()\n",
    "        text += \"\\n\"\n",
    "\n",
    "assert \"Le Chat grimaça en apercevant Alice\" in text, \"Vous devez charger le contenu du livre dans la variable.\""
   ]
  },
  {
   "cell_type": "markdown",
   "metadata": {},
   "source": [
    "## Étape 2 : Exemple d'utilisations des différentes fonctions\n",
    "\n",
    "Parmi les fonctions de base :\n",
    "\n",
    "  - Tokenize découpe le texte en tokens mots/sentence selon la fonction utilisée\n",
    "  - Stopwords contient la liste des mots trop courants pour être analysés\n",
    "  - Collocation donne la liste des mots qui ont des liens entre eux\n",
    "  \n",
    "Il y a également d'autres fonctions qui permettent de visualiser le texte."
   ]
  },
  {
   "cell_type": "code",
   "execution_count": 40,
   "metadata": {},
   "outputs": [
    {
     "name": "stdout",
     "output_type": "stream",
     "text": [
      "tokens subset : ['\\ufeffThe', 'Project', 'Gutenberg', 'EBook', 'of', 'Aventures', \"d'Alice\", 'au', 'pays', 'des', 'merveilles', ',', 'by', 'Lewis', 'Carroll', 'This', 'eBook', 'is', 'for', 'the']\n",
      "alpha_tokens subset : ['Project', 'Gutenberg', 'EBook', 'of', 'Aventures', 'au', 'pays', 'des', 'merveilles', 'by', 'Lewis', 'Carroll', 'This', 'eBook', 'is', 'for', 'the', 'use', 'of', 'anyone']\n"
     ]
    },
    {
     "data": {
      "text/plain": [
       "<Text: ﻿The Project Gutenberg EBook of Aventures d'Alice au...>"
      ]
     },
     "execution_count": 40,
     "metadata": {},
     "output_type": "execute_result"
    }
   ],
   "source": [
    "import nltk\n",
    "from nltk import word_tokenize\n",
    "\n",
    "# Tokenization\n",
    "tokens = word_tokenize(text)\n",
    "print(\"tokens subset : %s\" % tokens[:20])\n",
    "alpha_tokens = [token for token in tokens if token.isalpha()]\n",
    "print(\"alpha_tokens subset : %s\" % alpha_tokens[:20])\n",
    "\n",
    "nltk_text = nltk.Text(tokens)\n",
    "nltk_text"
   ]
  },
  {
   "cell_type": "code",
   "execution_count": 41,
   "metadata": {},
   "outputs": [
    {
     "name": "stdout",
     "output_type": "stream",
     "text": [
      "Stopwords : ['au', 'aux', 'avec', 'ce', 'ces', 'dans', 'de', 'des', 'du', 'elle', 'en', 'et', 'eux', 'il', 'je', 'la', 'le', 'leur', 'lui', 'ma', 'mais', 'me', 'même', 'mes', 'moi', 'mon', 'ne', 'nos', 'notre', 'nous', 'on', 'ou', 'par', 'pas', 'pour', 'qu', 'que', 'qui', 'sa', 'se', 'ses', 'son', 'sur', 'ta', 'te', 'tes', 'toi', 'ton', 'tu', 'un', 'une', 'vos', 'votre', 'vous', 'c', 'd', 'j', 'l', 'à', 'm', 'n', 's', 't', 'y', 'été', 'étée', 'étées', 'étés', 'étant', 'étante', 'étants', 'étantes', 'suis', 'es', 'est', 'sommes', 'êtes', 'sont', 'serai', 'seras', 'sera', 'serons', 'serez', 'seront', 'serais', 'serait', 'serions', 'seriez', 'seraient', 'étais', 'était', 'étions', 'étiez', 'étaient', 'fus', 'fut', 'fûmes', 'fûtes', 'furent', 'sois', 'soit', 'soyons', 'soyez', 'soient', 'fusse', 'fusses', 'fût', 'fussions', 'fussiez', 'fussent', 'ayant', 'ayante', 'ayantes', 'ayants', 'eu', 'eue', 'eues', 'eus', 'ai', 'as', 'avons', 'avez', 'ont', 'aurai', 'auras', 'aura', 'aurons', 'aurez', 'auront', 'aurais', 'aurait', 'aurions', 'auriez', 'auraient', 'avais', 'avait', 'avions', 'aviez', 'avaient', 'eut', 'eûmes', 'eûtes', 'eurent', 'aie', 'aies', 'ait', 'ayons', 'ayez', 'aient', 'eusse', 'eusses', 'eût', 'eussions', 'eussiez', 'eussent']\n",
      "Project Gutenberg-tm; dit Alice; d'un ton; Project Gutenberg; Lapin\n",
      "Blanc; United States; que vous; Literary Archive; d'un air; quelque\n",
      "chose; Gutenberg-tm electronic; Votre Majesté; Archive Foundation;\n",
      "electronic works; les yeux; Gutenberg Literary; d'une voix; pensa\n",
      "Alice; n'est pas; set forth\n",
      "Collocations : None\n"
     ]
    },
    {
     "name": "stderr",
     "output_type": "stream",
     "text": [
      "[nltk_data] Downloading package stopwords to\n",
      "[nltk_data]     /home/rqueraud/nltk_data...\n",
      "[nltk_data]   Package stopwords is already up-to-date!\n"
     ]
    }
   ],
   "source": [
    "# Collocations\n",
    "nltk.download('stopwords')\n",
    "print(\"Stopwords : %s\" % nltk.corpus.stopwords.words('french'))\n",
    "print(\"Collocations : %s\" % str(nltk_text.collocations()))"
   ]
  },
  {
   "cell_type": "code",
   "execution_count": 69,
   "metadata": {},
   "outputs": [
    {
     "name": "stdout",
     "output_type": "stream",
     "text": [
      "Displaying 25 of 52 matches:\n",
      "SE COCASSE . 29 IV . L'HABITATION DU LAPIN BLANC . 41 V. CONSEILS D'UNE CHENILL\n",
      "ir les fleurs , quand tout à coup un lapin blanc aux yeux roses passa près d'el\n",
      "-extraordinaire d'entendre parler le Lapin qui se disait : `` Ah ! j'arriverai \n",
      "out naturel . ) Cependant , quand le Lapin vint à tirer une montre de son gouss\n",
      "e idée que jamais elle n'avait vu de lapin avec un gousset et une montre . Entr\n",
      "près , Alice était à la poursuite du Lapin dans le terrier , sans songer commen\n",
      "it devant elle un long passage et le Lapin Blanc qui court à toutes jambes . Il\n",
      " tout juste à temps pour entendre le Lapin dire , tandis qu'il tourne le coin :\n",
      " deux pas : mais le coin tourné , le Lapin avait disparu . Elle se trouva alors\n",
      "our voir ce que c'était . C'était le Lapin Blanc , en grande toilette , tenant \n",
      "s au premier venu ; ainsi , quand le Lapin fut près d'elle , elle lui dit d'une\n",
      " Je vous en prie , Monsieur -- '' Le Lapin tressaillit d'épouvante , laissa tom\n",
      "lle avait mis un des petits gants du Lapin . `` Comment ai-je pu mettre ce gant\n",
      "oire . CHAPITRE IV . L'HABITATION DU LAPIN BLANC . C'ÉTAIT le Lapin Blanc qui r\n",
      "BITATION DU LAPIN BLANC . C'ÉTAIT le Lapin Blanc qui revenait en trottinant , e\n",
      "nt complétement disparu . Bientôt le Lapin aperçut Alice qui furetait ; il lui \n",
      "ue en cuivre avec ces mots , `` JEAN LAPIN . '' Elle monta l'escalier , entra s\n",
      " `` de faire des commissions pour un lapin ! Bientôt ce sera Dinah qui m'enverr\n",
      "scalier . Elle savait que c'était le Lapin qui la cherchait ; elle trembla si f\n",
      " était mille fois plus grande que le Lapin , et n'avait rien à craindre de lui \n",
      " n'avait rien à craindre de lui . Le Lapin , arrivé à la porte , essaya de l'ou\n",
      "tative fut vaine . Alice entendit le Lapin qui murmurait : `` C'est bon , je va\n",
      " peu ; puis , quand elle crut que le Lapin était sous la fenêtre , elle étendit\n",
      "ssées ( ce qui lui fit penser que le Lapin était tombé sur les châssis de quelq\n",
      " ) , puis une voix colère , celle du Lapin : `` Patrice ! Patrice ! où es-tu ? \n"
     ]
    }
   ],
   "source": [
    "# Observer l'utilisation du mot \"lapin\"\n",
    "nltk_text.concordance(\"lapin\")"
   ]
  },
  {
   "cell_type": "code",
   "execution_count": 63,
   "metadata": {},
   "outputs": [
    {
     "data": {
      "image/png": "[encoded data removed]",
      "text/plain": [
       "<Figure size 432x288 with 1 Axes>"
      ]
     },
     "metadata": {
      "needs_background": "light"
     },
     "output_type": "display_data"
    }
   ],
   "source": [
    "# Observer la dispersion d'un mot au cours d'un texte\n",
    "nltk_text.dispersion_plot([\"Alice\", \"Reine\", \"lapin\", \"Lapin\"])"
   ]
  },
  {
   "cell_type": "code",
   "execution_count": 43,
   "metadata": {},
   "outputs": [
    {
     "name": "stdout",
     "output_type": "stream",
     "text": [
      "Nombre de fois où le mot `Alice` est présent : 371\n",
      "Nombre de mots : 37159\n",
      "Nombre de mots uniques : 5288\n",
      "['au', 'aux', 'avec', 'ce', 'ces', 'dans', 'de', 'des', 'du', 'elle', 'en', 'et', 'eux', 'il', 'je', 'la', 'le', 'leur', 'lui', 'ma', 'mais', 'me', 'même', 'mes', 'moi', 'mon', 'ne', 'nos', 'notre', 'nous', 'on', 'ou', 'par', 'pas', 'pour', 'qu', 'que', 'qui', 'sa', 'se', 'ses', 'son', 'sur', 'ta', 'te', 'tes', 'toi', 'ton', 'tu', 'un', 'une', 'vos', 'votre', 'vous', 'c', 'd', 'j', 'l', 'à', 'm', 'n', 's', 't', 'y', 'été', 'étée', 'étées', 'étés', 'étant', 'étante', 'étants', 'étantes', 'suis', 'es', 'est', 'sommes', 'êtes', 'sont', 'serai', 'seras', 'sera', 'serons', 'serez', 'seront', 'serais', 'serait', 'serions', 'seriez', 'seraient', 'étais', 'était', 'étions', 'étiez', 'étaient', 'fus', 'fut', 'fûmes', 'fûtes', 'furent', 'sois', 'soit', 'soyons', 'soyez', 'soient', 'fusse', 'fusses', 'fût', 'fussions', 'fussiez', 'fussent', 'ayant', 'ayante', 'ayantes', 'ayants', 'eu', 'eue', 'eues', 'eus', 'ai', 'as', 'avons', 'avez', 'ont', 'aurai', 'auras', 'aura', 'aurons', 'aurez', 'auront', 'aurais', 'aurait', 'aurions', 'auriez', 'auraient', 'avais', 'avait', 'avions', 'aviez', 'avaient', 'eut', 'eûmes', 'eûtes', 'eurent', 'aie', 'aies', 'ait', 'ayons', 'ayez', 'aient', 'eusse', 'eusses', 'eût', 'eussions', 'eussiez', 'eussent']\n",
      "Mots les plus présents : [(',', 2244), ('.', 1363), (\"''\", 1169), ('``', 967), ('de', 909), ('la', 753), ('le', 667), ('et', 633), ('à', 554), ('dit', 382)]\n"
     ]
    }
   ],
   "source": [
    "# Distributions de mots\n",
    "fdist = nltk_text.vocab()\n",
    "print(\"Nombre de fois où le mot `Alice` est présent : %d\" % fdist[\"Alice\"])\n",
    "\n",
    "# Nombre de mots\n",
    "print(\"Nombre de mots : %d\" % len(tokens))\n",
    "print(\"Nombre de mots uniques : %d\" % len(fdist.keys()))\n",
    "\n",
    "# Stopwords\n",
    "print(nltk.corpus.stopwords.words('french'))\n",
    "\n",
    "# Mots les plus présents\n",
    "print(\"Mots les plus présents : %s\" % str(fdist.most_common(10)))"
   ]
  },
  {
   "cell_type": "markdown",
   "metadata": {},
   "source": [
    "## Étape 3 : Exercice\n",
    "\n",
    "Pour s'entrainer avec tout ça, on va constuire une fonction qui, à partir d'un texte brut, va afficher les mots (donc pas des ponctuations) les plus présents du texte qui ne sont pas des stopwords. "
   ]
  },
  {
   "cell_type": "code",
   "execution_count": 47,
   "metadata": {},
   "outputs": [
    {
     "name": "stdout",
     "output_type": "stream",
     "text": [
      "Subset des mots les plus présents non stopwords/ponctuation : ['dit', 'Alice', 'les', 'tout', 'bien', 'the', 'a', 'si', 'cela', 'of']\n"
     ]
    }
   ],
   "source": [
    "## ----- TODO : Afficher les 10 mots les plus présents qui ne sont pas des mots communs français et qui ne sont pas des ponctuations ----- ##\n",
    "def most_common_non_stopwords(raw_text, number=10):\n",
    "    pass\n",
    "## --------------------------------------------------------------------------------------------------------------------------------------- ##\n",
    "print(\"Subset des mots les plus présents non stopwords/ponctuation : %s\" % str(most_common_non_stopwords(text)[:20]))\n",
    "assert(\"Alice\" in most_common_non_stopwords(text))"
   ]
  },
  {
   "cell_type": "markdown",
   "metadata": {},
   "source": [
    "Une fois que vous avez réussi cette fonction, nous pouvons passer à la génération de texte !"
   ]
  },
  {
   "cell_type": "code",
   "execution_count": null,
   "metadata": {},
   "outputs": [],
   "source": []
  }
 ],
 "metadata": {
  "kernelspec": {
   "display_name": "Python 3",
   "language": "python",
   "name": "python3"
  },
  "language_info": {
   "codemirror_mode": {
    "name": "ipython",
    "version": 3
   },
   "file_extension": ".py",
   "mimetype": "text/x-python",
   "name": "python",
   "nbconvert_exporter": "python",
   "pygments_lexer": "ipython3",
   "version": "3.6.4"
  }
 },
 "nbformat": 4,
 "nbformat_minor": 2
}
