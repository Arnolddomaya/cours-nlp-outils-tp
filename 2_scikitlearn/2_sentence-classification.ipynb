{
 "cells": [
  {
   "cell_type": "markdown",
   "metadata": {},
   "source": [
    "# Classification de texte avec scikit-learn\n",
    "\n",
    "Nous disposons dans ce TP des mêmes données que pour le TP précédent. Nous aurons cette fois-ci plusieurs textes dans 3 langues différentes : le français, l'anglais et l'italien.\n",
    "\n",
    "Nous souhaitons développer un classifier, c'est à dire une fonction qui pourra prendre en entrée une suite de phrases et indiquer la langue de chacune.\n",
    "\n",
    "Les phrases ne seront pas passées sous leur forme brute, nous devons les transformer en vecteur. Pour cela, nous allons compter le nombre d'occurence de chaque lettre de l'alphabet dans chaque phrase et entrainer le classifier dessus."
   ]
  },
  {
   "cell_type": "markdown",
   "metadata": {},
   "source": [
    "## Étape 1 : Récupération du texte\n",
    "\n",
    "Nous allons récupérer les données de la même manière qu'au TP précédent. Nous allons également récupérer, pour chaque texte que l'on va charger, la langue dans laquelle il est écrit. Nous nous servirons ainsi de ces textes pour l'entrainement."
   ]
  },
  {
   "cell_type": "code",
   "execution_count": 209,
   "metadata": {},
   "outputs": [
    {
     "name": "stdout",
     "output_type": "stream",
     "text": [
      "﻿Au lecteur\n",
      "\n",
      "  Ce livre électronique reproduit intégralement le texte original,\n",
      "  et l'orthographe d'origine a été conservée. Seules les erreurs\n",
      "  clairement introduites par le typographe ont été corr\n"
     ]
    }
   ],
   "source": [
    "import glob\n",
    "\n",
    "text = {\n",
    "    'fr': \"\",\n",
    "    'en': \"\",\n",
    "    'it': \"\"\n",
    "}\n",
    "\n",
    "## ----- TODO : Remplir la variable text avec les textes des 3 langues ----- ##\n",
    "## -------------------------------------------------------------------------- ##\n",
    "        \n",
    "\n",
    "assert \"Le Chat grimaça en apercevant Alice\" in text['fr'], \"Vous devez charger le contenu du livre dans la variable.\"\n",
    "\n",
    "print(text['fr'][:200])"
   ]
  },
  {
   "cell_type": "markdown",
   "metadata": {},
   "source": [
    "## Étape 2 : Creation du tableau en python\n",
    "\n",
    "Nous souhaitons entrainer notre modèle sur des phrases, pour cela nous allons découper le texte de chaque langue grâce à la fonction `sent_tokenize` de nltk.\n",
    "\n",
    "L'objectif est d'avoir un tableau avec une colonne `lang` pour la langue et une colonne `sentence` pour la phrase. Nous aurons ainsi une ligne par phrase.\n",
    "\n",
    "Exemple de data : \n",
    "```python\n",
    "data = \\\n",
    "['fr', \"\\ufeffAu lecteur\\n\\n  Ce livre électronique reproduit intégralement le texte original,\\n  et l'orthographe d'origine a été conservée.\"]\n",
    "['fr', 'Seules les erreurs\\n  clairement introduites par le typographe ont été corrigées.']\n",
    "...\n",
    "```"
   ]
  },
  {
   "cell_type": "code",
   "execution_count": 210,
   "metadata": {},
   "outputs": [
    {
     "name": "stdout",
     "output_type": "stream",
     "text": [
      "['fr', \"\\ufeffAu lecteur\\n\\n  Ce livre électronique reproduit intégralement le texte original,\\n  et l'orthographe d'origine a été conservée.\"]\n",
      "['fr', 'Seules les erreurs\\n  clairement introduites par le typographe ont été corrigées.']\n",
      "['fr', 'La liste\\n  de ces corrections se trouve à la fin du texte.']\n",
      "['fr', 'Cependant «Shere-Khan» a été tacitement remplacé par «Shere Khan» et\\n  «Bandar Log» par «Bandar-Log».']\n",
      "['fr', 'LE LIVRE DE LA JUNGLE\\n\\n\\n\\n\\n  JUSTIFICATION DU TIRAGE\\n\\n  [Illustration]\\n\\n  Droits de reproduction réservés pour tous pays, y compris la Suède\\n  et la Norvège.']\n"
     ]
    }
   ],
   "source": [
    "from nltk.tokenize import sent_tokenize\n",
    "import numpy as np\n",
    "\n",
    "## ----- TODO : Remplir la variable `data` qui est un tableau à 2 dimensions ----- ##\n",
    "## ------------------------------------------- ##\n",
    "\n",
    "assert len(np.array(data).shape) == 2 and  np.array(data).shape >= (1000, 2)\n",
    "    \n"
   ]
  },
  {
   "cell_type": "markdown",
   "metadata": {},
   "source": [
    "## Étape 3 : Constitution du Dataframe\n",
    "\n",
    "Scikit-learn prend en donnée d'entrainement un DataFrame pandas."
   ]
  },
  {
   "cell_type": "code",
   "execution_count": 249,
   "metadata": {},
   "outputs": [
    {
     "data": {
      "text/html": [
       "<div>\n",
       "<style scoped>\n",
       "    .dataframe tbody tr th:only-of-type {\n",
       "        vertical-align: middle;\n",
       "    }\n",
       "\n",
       "    .dataframe tbody tr th {\n",
       "        vertical-align: top;\n",
       "    }\n",
       "\n",
       "    .dataframe thead th {\n",
       "        text-align: right;\n",
       "    }\n",
       "</style>\n",
       "<table border=\"1\" class=\"dataframe\">\n",
       "  <thead>\n",
       "    <tr style=\"text-align: right;\">\n",
       "      <th></th>\n",
       "      <th>lang</th>\n",
       "      <th>sentence</th>\n",
       "    </tr>\n",
       "  </thead>\n",
       "  <tbody>\n",
       "    <tr>\n",
       "      <th>9892</th>\n",
       "      <td>en</td>\n",
       "      <td>\"I have never seen one.</td>\n",
       "    </tr>\n",
       "    <tr>\n",
       "      <th>1282</th>\n",
       "      <td>fr</td>\n",
       "      <td>--Pas tout seul--peut-être... mais j'ai amené ...</td>\n",
       "    </tr>\n",
       "    <tr>\n",
       "      <th>10448</th>\n",
       "      <td>en</td>\n",
       "      <td>Had they been\\nalone they could have gone twic...</td>\n",
       "    </tr>\n",
       "    <tr>\n",
       "      <th>6287</th>\n",
       "      <td>fr</td>\n",
       "      <td>La plupart s'en fâchoient; mais que leur servo...</td>\n",
       "    </tr>\n",
       "    <tr>\n",
       "      <th>17310</th>\n",
       "      <td>en</td>\n",
       "      <td>The Lion, calling counsel, spoke--\\n    \"Dear ...</td>\n",
       "    </tr>\n",
       "    <tr>\n",
       "      <th>9769</th>\n",
       "      <td>fr</td>\n",
       "      <td>Information about the Mission of Project Guten...</td>\n",
       "    </tr>\n",
       "    <tr>\n",
       "      <th>6050</th>\n",
       "      <td>fr</td>\n",
       "      <td>Voilà mes chiens à boire: ils perdirent l'hale...</td>\n",
       "    </tr>\n",
       "    <tr>\n",
       "      <th>1669</th>\n",
       "      <td>fr</td>\n",
       "      <td>Les _holluschickies_ s'ébranlèrent pesamment d...</td>\n",
       "    </tr>\n",
       "    <tr>\n",
       "      <th>9585</th>\n",
       "      <td>fr</td>\n",
       "      <td>\"Je n'ai pas un mille de haut,\" dit-elle.</td>\n",
       "    </tr>\n",
       "    <tr>\n",
       "      <th>20028</th>\n",
       "      <td>it</td>\n",
       "      <td>disse Alice, nuotando, e cercando\\nd'afferrar ...</td>\n",
       "    </tr>\n",
       "  </tbody>\n",
       "</table>\n",
       "</div>"
      ],
      "text/plain": [
       "      lang                                           sentence\n",
       "9892    en                            \"I have never seen one.\n",
       "1282    fr  --Pas tout seul--peut-être... mais j'ai amené ...\n",
       "10448   en  Had they been\\nalone they could have gone twic...\n",
       "6287    fr  La plupart s'en fâchoient; mais que leur servo...\n",
       "17310   en  The Lion, calling counsel, spoke--\\n    \"Dear ...\n",
       "9769    fr  Information about the Mission of Project Guten...\n",
       "6050    fr  Voilà mes chiens à boire: ils perdirent l'hale...\n",
       "1669    fr  Les _holluschickies_ s'ébranlèrent pesamment d...\n",
       "9585    fr          \"Je n'ai pas un mille de haut,\" dit-elle.\n",
       "20028   it  disse Alice, nuotando, e cercando\\nd'afferrar ..."
      ]
     },
     "execution_count": 249,
     "metadata": {},
     "output_type": "execute_result"
    }
   ],
   "source": [
    "import pandas as pd\n",
    "\n",
    "df = pd.DataFrame(data)\n",
    "df.columns = ['lang', 'sentence']\n",
    "\n",
    "df.sample(frac=1)[:10]\n"
   ]
  },
  {
   "cell_type": "markdown",
   "metadata": {},
   "source": [
    "## Étape 4 : Équilibrer les données\n",
    "\n",
    "Si on observe les données, on voit que le nombre de phrases en italien est bien inférieur au nombre de phrases en anglais et en français.\n",
    "\n",
    "Il est préférable d'avoir un jeu de données bien équilibré, nous allons donc réduire le nombre de phrases en anglais/français au même nombre que de phrases en italien."
   ]
  },
  {
   "cell_type": "code",
   "execution_count": 250,
   "metadata": {
    "scrolled": true
   },
   "outputs": [
    {
     "data": {
      "text/plain": [
       "<matplotlib.axes._subplots.AxesSubplot at 0x7f5d9dc31198>"
      ]
     },
     "execution_count": 250,
     "metadata": {},
     "output_type": "execute_result"
    },
    {
     "data": {
      "image/png": "[encoded data removed]",
      "text/plain": [
       "<Figure size 432x288 with 1 Axes>"
      ]
     },
     "metadata": {
      "needs_background": "light"
     },
     "output_type": "display_data"
    }
   ],
   "source": [
    "df.lang.value_counts().plot.bar()"
   ]
  },
  {
   "cell_type": "code",
   "execution_count": 251,
   "metadata": {},
   "outputs": [],
   "source": [
    "## ----- TODO : Avec pandas, ou avec les listes python, équilibrer le DataFrame et le réaffecter dans df ----- ##\n",
    "## ----------------------------------------------------------------------------------------------------------- ##\n",
    "\n",
    "assert len(set(df.groupby(by='lang').size())) == 1"
   ]
  },
  {
   "cell_type": "code",
   "execution_count": 252,
   "metadata": {},
   "outputs": [
    {
     "data": {
      "text/plain": [
       "<matplotlib.axes._subplots.AxesSubplot at 0x7f5d9c8d2358>"
      ]
     },
     "execution_count": 252,
     "metadata": {},
     "output_type": "execute_result"
    },
    {
     "data": {
      "image/png": "[encoded data removed]",
      "text/plain": [
       "<Figure size 432x288 with 1 Axes>"
      ]
     },
     "metadata": {
      "needs_background": "light"
     },
     "output_type": "display_data"
    }
   ],
   "source": [
    "df.lang.value_counts().plot.bar()"
   ]
  },
  {
   "cell_type": "markdown",
   "metadata": {},
   "source": [
    "## Étape 5 : Nettoyage des données\n",
    "\n",
    "Nous avons une matrice de données contenant du texte brut. Nous souhaitons à terme compter le nombre d'occurence de chaque lettre dans les phrases.\n",
    "\n",
    "Nous allons ici construire la fonction `clean_sentence` permettant, à partir d'une phrase, d'enlever la ponctuation, les accents, les caractères spéciaux, les espaces et de tout passer en minuscule.  \n",
    "Nous allons pour cela, entre autres, utiliser la fonction `word_tokenize` de nltk et `normalize` de unicodedata."
   ]
  },
  {
   "cell_type": "code",
   "execution_count": 254,
   "metadata": {},
   "outputs": [],
   "source": [
    "from nltk.tokenize import word_tokenize\n",
    "import unicodedata\n",
    "\n",
    "def clean_sentence(sentence):\n",
    "    ## ----- TODO : Nettoyer la phrase ----- ##\n",
    "    ## ------------------------------------- ##\n",
    "    return sentence\n",
    "\n",
    "assert clean_sentence(\"Bonjour à tous ##\") == \"bonjouratous\""
   ]
  },
  {
   "cell_type": "markdown",
   "metadata": {},
   "source": [
    "## Étape 6 : Observer les données\n",
    "\n",
    "Nous souhaitons travailler sur l'occurence des lettres, mais est-ce vraiment une bonne idée ? Il est souhaitable d'observer les données avant de lancer pour valider que l'on peut bien classifier dessus.\n",
    "\n",
    "Nous allons etudier la fréquence de chaque lettre dans les différentes langues afin de voir si nous observons bien une différence."
   ]
  },
  {
   "cell_type": "code",
   "execution_count": 257,
   "metadata": {},
   "outputs": [
    {
     "data": {
      "text/html": [
       "<div>\n",
       "<style scoped>\n",
       "    .dataframe tbody tr th:only-of-type {\n",
       "        vertical-align: middle;\n",
       "    }\n",
       "\n",
       "    .dataframe tbody tr th {\n",
       "        vertical-align: top;\n",
       "    }\n",
       "\n",
       "    .dataframe thead th {\n",
       "        text-align: right;\n",
       "    }\n",
       "</style>\n",
       "<table border=\"1\" class=\"dataframe\">\n",
       "  <thead>\n",
       "    <tr style=\"text-align: right;\">\n",
       "      <th></th>\n",
       "      <th>fr</th>\n",
       "      <th>en</th>\n",
       "      <th>it</th>\n",
       "    </tr>\n",
       "    <tr>\n",
       "      <th>letter</th>\n",
       "      <th></th>\n",
       "      <th></th>\n",
       "      <th></th>\n",
       "    </tr>\n",
       "  </thead>\n",
       "  <tbody>\n",
       "    <tr>\n",
       "      <th>a</th>\n",
       "      <td>0.081573</td>\n",
       "      <td>0.082651</td>\n",
       "      <td>0.110775</td>\n",
       "    </tr>\n",
       "    <tr>\n",
       "      <th>b</th>\n",
       "      <td>0.010069</td>\n",
       "      <td>0.015493</td>\n",
       "      <td>0.010512</td>\n",
       "    </tr>\n",
       "    <tr>\n",
       "      <th>c</th>\n",
       "      <td>0.029714</td>\n",
       "      <td>0.023613</td>\n",
       "      <td>0.048476</td>\n",
       "    </tr>\n",
       "    <tr>\n",
       "      <th>d</th>\n",
       "      <td>0.033093</td>\n",
       "      <td>0.043549</td>\n",
       "      <td>0.036557</td>\n",
       "    </tr>\n",
       "    <tr>\n",
       "      <th>e</th>\n",
       "      <td>0.166486</td>\n",
       "      <td>0.125262</td>\n",
       "      <td>0.116389</td>\n",
       "    </tr>\n",
       "    <tr>\n",
       "      <th>f</th>\n",
       "      <td>0.011869</td>\n",
       "      <td>0.022466</td>\n",
       "      <td>0.011779</td>\n",
       "    </tr>\n",
       "    <tr>\n",
       "      <th>g</th>\n",
       "      <td>0.011491</td>\n",
       "      <td>0.021217</td>\n",
       "      <td>0.019595</td>\n",
       "    </tr>\n",
       "    <tr>\n",
       "      <th>h</th>\n",
       "      <td>0.010966</td>\n",
       "      <td>0.067417</td>\n",
       "      <td>0.012089</td>\n",
       "    </tr>\n",
       "    <tr>\n",
       "      <th>i</th>\n",
       "      <td>0.071727</td>\n",
       "      <td>0.064805</td>\n",
       "      <td>0.110453</td>\n",
       "    </tr>\n",
       "    <tr>\n",
       "      <th>j</th>\n",
       "      <td>0.005480</td>\n",
       "      <td>0.001676</td>\n",
       "      <td>0.000126</td>\n",
       "    </tr>\n",
       "  </tbody>\n",
       "</table>\n",
       "</div>"
      ],
      "text/plain": [
       "              fr        en        it\n",
       "letter                              \n",
       "a       0.081573  0.082651  0.110775\n",
       "b       0.010069  0.015493  0.010512\n",
       "c       0.029714  0.023613  0.048476\n",
       "d       0.033093  0.043549  0.036557\n",
       "e       0.166486  0.125262  0.116389\n",
       "f       0.011869  0.022466  0.011779\n",
       "g       0.011491  0.021217  0.019595\n",
       "h       0.010966  0.067417  0.012089\n",
       "i       0.071727  0.064805  0.110453\n",
       "j       0.005480  0.001676  0.000126"
      ]
     },
     "execution_count": 257,
     "metadata": {},
     "output_type": "execute_result"
    }
   ],
   "source": [
    "alphabet = \"abcdefghijklmnopqrstuvwxyz\"\n",
    "\n",
    "def get_letters_freq(data):\n",
    "    joined_text = {\n",
    "        \"fr\": \"\",\n",
    "        \"en\": \"\",\n",
    "        \"it\": \"\"\n",
    "    }\n",
    "    for datum in data:\n",
    "        joined_text[datum[0]] += clean_sentence(datum[1])\n",
    "        \n",
    "    total_letters = {}\n",
    "    for lang in joined_text.keys():\n",
    "        total_letters[lang] = len(joined_text[lang])\n",
    "    \n",
    "    ## ----- TODO : 2D list avec une lettre par ligne et une langue par colonne. La valeur est la frequence d'apparition de la lettre pour la langue (entre 0 et 1) ----- ##\n",
    "    ## ------------------------------------------------------------------------------------------------------------------------------------------------------------------ ##\n",
    "    \n",
    "    for index, letter in enumerate(alphabet):\n",
    "        letters_data[index].insert(0, letter)\n",
    "    return letters_data\n",
    "            \n",
    "letters_freq = get_letters_freq(data)\n",
    "\n",
    "letters_freq_df = pd.DataFrame(letters_freq)\n",
    "letters_freq_df.columns = [\"letter\", \"fr\", \"en\", \"it\"]\n",
    "letters_freq_df = letters_freq_df.set_index(\"letter\")\n",
    "letters_freq_df[:10]"
   ]
  },
  {
   "cell_type": "code",
   "execution_count": 161,
   "metadata": {},
   "outputs": [
    {
     "data": {
      "text/plain": [
       "<matplotlib.axes._subplots.AxesSubplot at 0x7f5d9d115048>"
      ]
     },
     "execution_count": 161,
     "metadata": {},
     "output_type": "execute_result"
    },
    {
     "data": {
      "image/png": "[encoded data removed]",
      "text/plain": [
       "<Figure size 1080x360 with 1 Axes>"
      ]
     },
     "metadata": {
      "needs_background": "light"
     },
     "output_type": "display_data"
    }
   ],
   "source": [
    "letters_freq_df.plot.bar(figsize=(15, 5))"
   ]
  },
  {
   "cell_type": "markdown",
   "metadata": {},
   "source": [
    "## Étape 7 : Préparation au format attendu par le classifier\n",
    "\n",
    "Nous allons utiliser le classifier [MultinomialNB](https://scikit-learn.org/stable/modules/generated/sklearn.naive_bayes.MultinomialNB.html) qui prend en entrée le jeu de données d'entrainement d'un côté, et les classes qui y sont associées de l'autre. Il faut donc obtenir les deux vecteurs associés.\n",
    "\n",
    "Nous allons de plus découper notre jeu de données en données d'entrainement et en données de test pour nous permettre de valider le modèle sur des données inconnues. Nous allons pour cela appliquer la fonction [train_test_split](https://scikit-learn.org/stable/modules/generated/sklearn.model_selection.train_test_split.html) de scikit_learn."
   ]
  },
  {
   "cell_type": "code",
   "execution_count": 258,
   "metadata": {},
   "outputs": [],
   "source": [
    "from sklearn.model_selection import train_test_split\n",
    "\n",
    "y = df['lang']\n",
    "X = df['sentence']\n",
    "\n",
    "## ----- TODO : Appliquer la fonction train_test_split de scikit-learn ----- ##\n",
    "## ------------------------------------------------------------------------- ##\n",
    "\n"
   ]
  },
  {
   "cell_type": "markdown",
   "metadata": {},
   "source": [
    "Le classifier attend un vecteur en entrée, nous allons donc pouvoir utiliser un vectorizer déjà implémenté par scikit-learn qui va permettre de compter l'occurence de chaque lettre dans le mot et ressortir un vecteur de taille 26."
   ]
  },
  {
   "cell_type": "code",
   "execution_count": 266,
   "metadata": {},
   "outputs": [
    {
     "name": "stdout",
     "output_type": "stream",
     "text": [
      "7424                                      Moi l'emporter!\n",
      "5982    --Il n'a pas mangé,--dit Baloo, en grognant de...\n",
      "8460    Les daubeurs ont leur tour d'une ou d'autre ma...\n",
      "6478    Ayant donc mis à part les entretiens frivoles,...\n",
      "3074    We shall not seek for any further homage to hi...\n",
      "Name: sentence, dtype: object\n"
     ]
    },
    {
     "data": {
      "text/plain": [
       "matrix([[ 0,  0,  0,  0,  0,  0,  0,  0,  1,  0,  0,  0,  1,  0,  1,  0,\n",
       "          0,  0,  0,  0,  0,  0,  0,  0,  0,  0],\n",
       "        [13,  5,  0,  5, 14,  1,  5,  2,  5,  0,  0,  4,  4,  8,  6,  2,\n",
       "          0,  5,  4,  9,  6,  1,  0,  1,  0,  0],\n",
       "        [ 5,  1,  1,  3, 14,  0,  0,  0,  3,  0,  0,  2,  1,  8,  6,  1,\n",
       "          0,  9,  6,  3,  8,  1,  0,  0,  0,  0],\n",
       "        [ 8,  2,  2,  1, 12,  1,  0,  0,  5,  0,  0,  5,  3,  7,  6,  2,\n",
       "          0,  9,  9,  8,  5,  1,  0,  0,  1,  0],\n",
       "        [11,  4,  4,  1, 15,  2,  4, 13, 10,  0,  2,  2,  2,  9, 11,  2,\n",
       "          0, 11, 12, 11,  5,  0,  4,  0,  2,  0]])"
      ]
     },
     "execution_count": 266,
     "metadata": {},
     "output_type": "execute_result"
    }
   ],
   "source": [
    "from sklearn.feature_extraction.text import CountVectorizer\n",
    "\n",
    "vectorizer = CountVectorizer(preprocessor=clean_sentence, analyzer=\"char\")\n",
    "vectorizer.fit(X_train)\n",
    "Xvec_train = vectorizer.transform(X_train)\n",
    "Xvec_test = vectorizer.transform(X_test)\n",
    "\n",
    "print(X_train[:5])\n",
    "Xvec_train[:5].todense()"
   ]
  },
  {
   "cell_type": "markdown",
   "metadata": {},
   "source": [
    "Nous pouvons maintenant entrainer le classifier sur notre vecteur d'entrainement. Une fois entrainé, nous pouvons le valider avec la fonction `score` de ce classifier."
   ]
  },
  {
   "cell_type": "code",
   "execution_count": 1,
   "metadata": {},
   "outputs": [
    {
     "ename": "ModuleNotFoundError",
     "evalue": "No module named 'sklearn'",
     "output_type": "error",
     "traceback": [
      "\u001b[0;31m---------------------------------------------------------------------------\u001b[0m",
      "\u001b[0;31mModuleNotFoundError\u001b[0m                       Traceback (most recent call last)",
      "\u001b[0;32m<ipython-input-1-ec8560fcd48a>\u001b[0m in \u001b[0;36m<module>\u001b[0;34m\u001b[0m\n\u001b[0;32m----> 1\u001b[0;31m \u001b[0;32mfrom\u001b[0m \u001b[0msklearn\u001b[0m\u001b[0;34m.\u001b[0m\u001b[0mnaive_bayes\u001b[0m \u001b[0;32mimport\u001b[0m \u001b[0mMultinomialNB\u001b[0m\u001b[0;34m\u001b[0m\u001b[0m\n\u001b[0m\u001b[1;32m      2\u001b[0m \u001b[0;34m\u001b[0m\u001b[0m\n\u001b[1;32m      3\u001b[0m \u001b[0mcls\u001b[0m \u001b[0;34m=\u001b[0m \u001b[0mMultinomialNB\u001b[0m\u001b[0;34m(\u001b[0m\u001b[0;34m)\u001b[0m\u001b[0;34m\u001b[0m\u001b[0m\n\u001b[1;32m      4\u001b[0m \u001b[0mcls\u001b[0m\u001b[0;34m.\u001b[0m\u001b[0mfit\u001b[0m\u001b[0;34m(\u001b[0m\u001b[0mXvec_train\u001b[0m\u001b[0;34m,\u001b[0m \u001b[0my_train\u001b[0m\u001b[0;34m)\u001b[0m\u001b[0;34m\u001b[0m\u001b[0m\n\u001b[1;32m      5\u001b[0m \u001b[0;34m\u001b[0m\u001b[0m\n",
      "\u001b[0;31mModuleNotFoundError\u001b[0m: No module named 'sklearn'"
     ]
    }
   ],
   "source": [
    "from sklearn.naive_bayes import MultinomialNB\n",
    "\n",
    "cls = MultinomialNB()\n",
    "cls.fit(Xvec_train, y_train)\n",
    "\n",
    "## ----- TODO : Valider le classifier avec la fonction score sur le jeu de test ----- ##\n",
    "## ---------------------------------------------------------------------------------- ##\n",
    "\n",
    "print(f\"{score:.1%}\")  # > 80% ?"
   ]
  },
  {
   "cell_type": "code",
   "execution_count": 269,
   "metadata": {},
   "outputs": [
    {
     "data": {
      "image/png": "[encoded data removed]",
      "text/plain": [
       "<Figure size 432x432 with 2 Axes>"
      ]
     },
     "metadata": {
      "needs_background": "light"
     },
     "output_type": "display_data"
    }
   ],
   "source": [
    "import matplotlib.pyplot as plt\n",
    "from sklearn.metrics import confusion_matrix\n",
    "import itertools\n",
    "import numpy as np\n",
    "\n",
    "def plot_confusion_matrix(y_validation, predicted_y_validation):\n",
    "    langs = y_validation.unique()\n",
    "    cm = confusion_matrix(y_validation, predicted_y_validation, langs)\n",
    "    cm_normalized = cm.astype('float') / cm.sum(axis=1)[:, np.newaxis]\n",
    "\n",
    "    plt.figure(figsize=(6, 6))\n",
    "    plt.title(\"Matrice de confusion\")\n",
    "    plt.imshow(cm_normalized)\n",
    "    plt.colorbar()\n",
    "    tick_marks = np.arange(len(langs))\n",
    "    plt.xticks(tick_marks, langs)\n",
    "    plt.yticks(tick_marks, langs)\n",
    "    plt.ylabel('Langue réelle')\n",
    "    plt.xlabel('Langue prédite')\n",
    "\n",
    "    thresh = cm.max() / 2.\n",
    "    for i, j in itertools.product(range(cm.shape[0]), range(cm.shape[1])):\n",
    "        plt.text(j, i, format(cm_normalized[i, j], '.1%'),\n",
    "                 horizontalalignment=\"center\",\n",
    "                 color=\"white\" if cm[i, j] < thresh else \"black\")\n",
    "\n",
    "plot_confusion_matrix(y_test, cls.predict(Xvec_test))"
   ]
  },
  {
   "cell_type": "markdown",
   "metadata": {},
   "source": [
    "## Appliquer à vos propres données\n",
    "\n",
    "Maintenant que le classifier est entrainé, nous pouvons l'appliquer sur de nouvelles données. Essayez de classifier les données contenues dans la liste `hello` ci-dessous."
   ]
  },
  {
   "cell_type": "code",
   "execution_count": 270,
   "metadata": {},
   "outputs": [
    {
     "data": {
      "text/plain": [
       "array(['en', 'fr', 'it'], dtype='<U2')"
      ]
     },
     "execution_count": 270,
     "metadata": {},
     "output_type": "execute_result"
    }
   ],
   "source": [
    "hello = [\"Hello everyone\", \"Bonjour à tous\", \"Ciao a tutti\"]\n",
    "\n",
    "## ----- TODO : Classifier les phrases contenues dans la liste à l'aide du modèle précedemment entrainé ----- ##\n",
    "## ---------------------------------------------------------------------------------------------------------- ##"
   ]
  },
  {
   "cell_type": "markdown",
   "metadata": {},
   "source": [
    "## Et maintenant ?\n",
    "\n",
    "Maintenant que vous avez entrainé votre premier modèle de Machine Learning avec scikit-learn, nous allons pousser un peu un peu plus loin en regardant le deep-learning via **Pytorch** !"
   ]
  },
  {
   "cell_type": "code",
   "execution_count": null,
   "metadata": {},
   "outputs": [],
   "source": []
  }
 ],
 "metadata": {
  "kernelspec": {
   "display_name": "Python 3",
   "language": "python",
   "name": "python3"
  },
  "language_info": {
   "codemirror_mode": {
    "name": "ipython",
    "version": 3
   },
   "file_extension": ".py",
   "mimetype": "text/x-python",
   "name": "python",
   "nbconvert_exporter": "python",
   "pygments_lexer": "ipython3",
   "version": "3.6.4"
  }
 },
 "nbformat": 4,
 "nbformat_minor": 2
}
